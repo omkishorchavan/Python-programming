{
 "cells": [
  {
   "cell_type": "code",
   "execution_count": 80,
   "id": "d14ab637-2631-4eaf-9799-ba848c6f20b8",
   "metadata": {},
   "outputs": [],
   "source": [
    "def fact(num):\n",
    "    fact=1\n",
    "    for i in range(1,num+1):\n",
    "        fact=fact*i\n",
    "    return fact"
   ]
  },
  {
   "cell_type": "code",
   "execution_count": 90,
   "id": "54eb1946-4918-4fa9-bd71-aa415cbb6305",
   "metadata": {},
   "outputs": [
    {
     "name": "stdout",
     "output_type": "stream",
     "text": [
      "120\n"
     ]
    }
   ],
   "source": [
    "print(fact(5))"
   ]
  },
  {
   "cell_type": "code",
   "execution_count": 1,
   "id": "60983b69-72e3-4f4e-a903-f042add28520",
   "metadata": {},
   "outputs": [],
   "source": [
    "def Sum_of_digit(num):\n",
    "    sum=0\n",
    "    while num>0:\n",
    "        digit=num%10\n",
    "        sum=sum+digit\n",
    "        num=num//10\n",
    "    return sum"
   ]
  },
  {
   "cell_type": "code",
   "execution_count": 5,
   "id": "c3e34402-f1cc-45cb-a111-36702fa3192e",
   "metadata": {},
   "outputs": [
    {
     "name": "stdout",
     "output_type": "stream",
     "text": [
      "6\n"
     ]
    }
   ],
   "source": [
    "print(Sum_of_digit(123))"
   ]
  },
  {
   "cell_type": "code",
   "execution_count": 31,
   "id": "9e6da7c0-d0e9-43d9-9b66-705208d05f9e",
   "metadata": {},
   "outputs": [],
   "source": [
    "def Prime(num):\n",
    "    if num<0:\n",
    "        print(\"It is not a prime number\")\n",
    "    for i in range(2,num):\n",
    "         if num % i==0:\n",
    "             print(\"It is not a prime number\")\n",
    "             break\n",
    "    else:\n",
    "         print(\"It is a prime number\")\n",
    "    return num"
   ]
  },
  {
   "cell_type": "code",
   "execution_count": 35,
   "id": "ae211a90-4b8e-46ba-9ef9-e6549df2531b",
   "metadata": {},
   "outputs": [
    {
     "name": "stdout",
     "output_type": "stream",
     "text": [
      "It is not a prime number\n"
     ]
    },
    {
     "data": {
      "text/plain": [
       "10"
      ]
     },
     "execution_count": 35,
     "metadata": {},
     "output_type": "execute_result"
    }
   ],
   "source": [
    "Prime(10)"
   ]
  },
  {
   "cell_type": "code",
   "execution_count": 59,
   "id": "465deb2f-0fdb-4181-b2f0-d81a3b787ecc",
   "metadata": {},
   "outputs": [],
   "source": [
    "def largest_number(a, b, c):\n",
    "    if a > b and a > c:\n",
    "        print(\"a is largest number\", a)\n",
    "    elif b > a and b > c:\n",
    "        print(\"b is largest number\", b)\n",
    "    else:\n",
    "        print(\"c is largest number\", c)"
   ]
  },
  {
   "cell_type": "code",
   "execution_count": 61,
   "id": "2a86f044-3bd7-4c46-9a70-91e3f1764e7b",
   "metadata": {},
   "outputs": [
    {
     "name": "stdout",
     "output_type": "stream",
     "text": [
      "a is largest number 9000\n"
     ]
    }
   ],
   "source": [
    "largest_number(9000,4598,5325)"
   ]
  },
  {
   "cell_type": "code",
   "execution_count": 89,
   "id": "0a3e58b4-290c-4e42-9998-a5432913d698",
   "metadata": {},
   "outputs": [],
   "source": [
    "def Multiplication_table(num):\n",
    "    for i in range(1,11):\n",
    "        print(num,\"x\",i,\"=\",num*i)"
   ]
  },
  {
   "cell_type": "code",
   "execution_count": 95,
   "id": "24e39128-7d57-447e-aece-a05123a0820b",
   "metadata": {},
   "outputs": [
    {
     "name": "stdout",
     "output_type": "stream",
     "text": [
      "6 x 1 = 6\n",
      "6 x 2 = 12\n",
      "6 x 3 = 18\n",
      "6 x 4 = 24\n",
      "6 x 5 = 30\n",
      "6 x 6 = 36\n",
      "6 x 7 = 42\n",
      "6 x 8 = 48\n",
      "6 x 9 = 54\n",
      "6 x 10 = 60\n"
     ]
    }
   ],
   "source": [
    "Multiplication_table(6)"
   ]
  },
  {
   "cell_type": "code",
   "execution_count": 11,
   "id": "e3437c88-bc9f-45f7-a9bd-94c6a6b85ba9",
   "metadata": {},
   "outputs": [],
   "source": [
    "def sum_even(numbers):\n",
    "    sum=0\n",
    "    for n in numbers:\n",
    "        if n%2==0:\n",
    "            sum=sum+n\n",
    "    return sum"
   ]
  },
  {
   "cell_type": "code",
   "execution_count": 15,
   "id": "cdfb80e3-d884-44f7-914d-5b5372c99526",
   "metadata": {},
   "outputs": [
    {
     "data": {
      "text/plain": [
       "6"
      ]
     },
     "execution_count": 15,
     "metadata": {},
     "output_type": "execute_result"
    }
   ],
   "source": [
    "sum_even([1,2,3,4])"
   ]
  },
  {
   "cell_type": "code",
   "execution_count": null,
   "id": "9bd2437c-2432-4f16-9eb3-c553b72bf016",
   "metadata": {},
   "outputs": [],
   "source": []
  }
 ],
 "metadata": {
  "kernelspec": {
   "display_name": "Python 3 (ipykernel)",
   "language": "python",
   "name": "python3"
  },
  "language_info": {
   "codemirror_mode": {
    "name": "ipython",
    "version": 3
   },
   "file_extension": ".py",
   "mimetype": "text/x-python",
   "name": "python",
   "nbconvert_exporter": "python",
   "pygments_lexer": "ipython3",
   "version": "3.12.4"
  }
 },
 "nbformat": 4,
 "nbformat_minor": 5
}
