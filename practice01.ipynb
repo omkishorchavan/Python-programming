{
 "cells": [
  {
   "cell_type": "code",
   "execution_count": 1,
   "id": "807ea90d-202b-4276-ba92-9140dbdde0d2",
   "metadata": {},
   "outputs": [
    {
     "name": "stdin",
     "output_type": "stream",
     "text": [
      "Enter the number 45\n",
      "Enter the number 54\n"
     ]
    },
    {
     "name": "stdout",
     "output_type": "stream",
     "text": [
      "Addition of two number: 99\n"
     ]
    }
   ],
   "source": [
    "Num1=int(input(\"Enter the number\"))\n",
    "Num2=int(input(\"Enter the number\"))\n",
    "print(\"Addition of two number:\",Num1+Num2)"
   ]
  },
  {
   "cell_type": "code",
   "execution_count": 2,
   "id": "3884710d-bd44-407a-bf87-30975eb8579e",
   "metadata": {},
   "outputs": [
    {
     "name": "stdin",
     "output_type": "stream",
     "text": [
      "Enter the number 45\n",
      "Enter the number 14\n"
     ]
    },
    {
     "name": "stdout",
     "output_type": "stream",
     "text": [
      "Subtraction of two number: 31\n"
     ]
    }
   ],
   "source": [
    "Num1=int(input(\"Enter the number\"))\n",
    "Num2=int(input(\"Enter the number\"))\n",
    "print(\"Subtraction of two number:\",Num1-Num2)"
   ]
  },
  {
   "cell_type": "code",
   "execution_count": 3,
   "id": "aa9c0459-48a2-4381-ad38-e00e53ab058d",
   "metadata": {},
   "outputs": [
    {
     "name": "stdin",
     "output_type": "stream",
     "text": [
      "Enter the number 12\n",
      "Enter the number 5\n"
     ]
    },
    {
     "name": "stdout",
     "output_type": "stream",
     "text": [
      "Multipliction of two number: 60\n"
     ]
    }
   ],
   "source": [
    "Num1=int(input(\"Enter the number\"))\n",
    "Num2=int(input(\"Enter the number\"))\n",
    "print(\"Multipliction of two number:\",Num1*Num2)"
   ]
  },
  {
   "cell_type": "code",
   "execution_count": 4,
   "id": "2e0dcfcd-fd6a-4db1-bf9a-f758bdd02432",
   "metadata": {},
   "outputs": [
    {
     "name": "stdin",
     "output_type": "stream",
     "text": [
      "Enter the number 50\n",
      "Enter the number 5\n"
     ]
    },
    {
     "name": "stdout",
     "output_type": "stream",
     "text": [
      "Division of two number: 10.0\n"
     ]
    }
   ],
   "source": [
    "Num1=int(input(\"Enter the number\"))\n",
    "Num2=int(input(\"Enter the number\"))\n",
    "print(\"Division of two number:\",Num1/Num2)"
   ]
  },
  {
   "cell_type": "code",
   "execution_count": 5,
   "id": "9a016340-5999-4f0d-8522-5b148735ed21",
   "metadata": {},
   "outputs": [
    {
     "name": "stdin",
     "output_type": "stream",
     "text": [
      "Enter the number 567\n",
      "Enter the number 17\n"
     ]
    },
    {
     "name": "stdout",
     "output_type": "stream",
     "text": [
      "33\n"
     ]
    }
   ],
   "source": [
    "Num1=int(input(\"Enter the number\"))\n",
    "Num2=int(input(\"Enter the number\"))\n",
    "print(Num1//Num2)"
   ]
  },
  {
   "cell_type": "code",
   "execution_count": 6,
   "id": "fc020895-dd7a-48e4-ac90-039b357995b9",
   "metadata": {},
   "outputs": [
    {
     "name": "stdin",
     "output_type": "stream",
     "text": [
      "Enter the number 50\n",
      "Enter the number 5\n"
     ]
    },
    {
     "name": "stdout",
     "output_type": "stream",
     "text": [
      "0\n"
     ]
    }
   ],
   "source": [
    "Num1=int(input(\"Enter the number\"))\n",
    "Num2=int(input(\"Enter the number\"))\n",
    "print(Num1%Num2)"
   ]
  },
  {
   "cell_type": "code",
   "execution_count": 7,
   "id": "d0ee3304-8e79-4a4f-9d99-01b54df11d53",
   "metadata": {},
   "outputs": [
    {
     "name": "stdin",
     "output_type": "stream",
     "text": [
      "Enter the number 81\n"
     ]
    },
    {
     "name": "stdout",
     "output_type": "stream",
     "text": [
      "The square root of given number: 9.0\n"
     ]
    }
   ],
   "source": [
    "Num=int(input(\"Enter the number\"))\n",
    "sr=Num**(1/2)\n",
    "print(\"The square root of given number:\",sr)"
   ]
  },
  {
   "cell_type": "code",
   "execution_count": 8,
   "id": "6c3dfae0-405e-4dd5-b349-6e76934064d0",
   "metadata": {},
   "outputs": [
    {
     "name": "stdin",
     "output_type": "stream",
     "text": [
      "Enter the height of the triangle 54\n",
      "Enter the base of the triangle 52\n"
     ]
    },
    {
     "name": "stdout",
     "output_type": "stream",
     "text": [
      "Area of the triangle: 1404.0\n"
     ]
    }
   ],
   "source": [
    "Height=float(input(\"Enter the height of the triangle\"))\n",
    "Base=float(input(\"Enter the base of the triangle\"))\n",
    "area=(1/2)*Height*Base\n",
    "print(\"Area of the triangle:\",area)"
   ]
  },
  {
   "cell_type": "code",
   "execution_count": 9,
   "id": "5120cfe7-8ede-4f51-b033-3f0cf551db32",
   "metadata": {},
   "outputs": [
    {
     "name": "stdin",
     "output_type": "stream",
     "text": [
      "Enter the redius:  45\n"
     ]
    },
    {
     "name": "stdout",
     "output_type": "stream",
     "text": [
      "Area of circle 6358.5\n"
     ]
    }
   ],
   "source": [
    "radius=int(input(\"Enter the redius: \"))\n",
    "area_of_circle=3.14*radius**2\n",
    "print(\"Area of circle\",area_of_circle)"
   ]
  },
  {
   "cell_type": "code",
   "execution_count": 2,
   "id": "cf61e290-3dbc-4bc9-99f1-dfc2f9dbc172",
   "metadata": {},
   "outputs": [
    {
     "name": "stdin",
     "output_type": "stream",
     "text": [
      "Enter the side:  45\n"
     ]
    },
    {
     "name": "stdout",
     "output_type": "stream",
     "text": [
      "Area of the square is: 2025\n"
     ]
    }
   ],
   "source": [
    "side = int(input(\"Enter the side: \"))\n",
    "area_of_square = side**2\n",
    "print(\"Area of the square is:\", area_of_square)"
   ]
  }
 ],
 "metadata": {
  "kernelspec": {
   "display_name": "Python 3 (ipykernel)",
   "language": "python",
   "name": "python3"
  },
  "language_info": {
   "codemirror_mode": {
    "name": "ipython",
    "version": 3
   },
   "file_extension": ".py",
   "mimetype": "text/x-python",
   "name": "python",
   "nbconvert_exporter": "python",
   "pygments_lexer": "ipython3",
   "version": "3.12.4"
  }
 },
 "nbformat": 4,
 "nbformat_minor": 5
}
