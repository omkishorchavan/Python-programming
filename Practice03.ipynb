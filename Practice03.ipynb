{
 "cells": [
  {
   "cell_type": "code",
   "execution_count": 11,
   "id": "5600743d-7b55-41ab-b3b3-80d357df2c71",
   "metadata": {},
   "outputs": [
    {
     "name": "stdin",
     "output_type": "stream",
     "text": [
      "Enter a number 12\n",
      "Enter a number 45\n",
      "Enter a number 10\n"
     ]
    },
    {
     "name": "stdout",
     "output_type": "stream",
     "text": [
      "Num2 is greatest number 45\n"
     ]
    }
   ],
   "source": [
    "num1=int(input(\"Enter a number\"))\n",
    "num2=int(input(\"Enter a number\"))\n",
    "num3=int(input(\"Enter a number\"))\n",
    "if num1>num2 and num1>num3:\n",
    "    print(\"Num1 is greatest number\",num1)\n",
    "elif num2>num1 and num2>num3:\n",
    "    print(\"Num2 is greatest number\",num2)\n",
    "else:\n",
    "    print(\"Num3 is greatest number\",num3)"
   ]
  },
  {
   "cell_type": "code",
   "execution_count": 7,
   "id": "33ed330e-6453-4098-b230-ac5ca87504b8",
   "metadata": {},
   "outputs": [
    {
     "name": "stdin",
     "output_type": "stream",
     "text": [
      "Enter the numbers 10\n"
     ]
    },
    {
     "name": "stdout",
     "output_type": "stream",
     "text": [
      "The sum of even number is 10 is 55\n",
      "The sum of odd number is 10 is 55\n"
     ]
    }
   ],
   "source": [
    "num=int(input(\"Enter the numbers\"))\n",
    "even=0\n",
    "odd=0\n",
    "for i in range(1,num+1):\n",
    "    if num%2==0:\n",
    "        even=even +i\n",
    "    else:\n",
    "        num%2==1\n",
    "        odd=odd+i\n",
    "print(\"The sum of even number is\",num, \"is\",even)\n",
    "print(\"The sum of odd number is\",num ,\"is\",even)"
   ]
  },
  {
   "cell_type": "code",
   "execution_count": 62,
   "id": "2ecdd725-bcfc-4aa1-a05f-fc2a6faadbd9",
   "metadata": {},
   "outputs": [
    {
     "name": "stdin",
     "output_type": "stream",
     "text": [
      "Enter the numbers 100\n"
     ]
    },
    {
     "name": "stdout",
     "output_type": "stream",
     "text": [
      "The both numbers are same\n"
     ]
    }
   ],
   "source": [
    "n=int(input(\"Enter the numbers\"))\n",
    "if 100<=num:\n",
    "    print(\"The numbers is less than 100\")\n",
    "elif 100 == 100:\n",
    "    print(\"The both numbers are same\")\n",
    "else:\n",
    "    print(\"The numbers is greater than 100\")"
   ]
  },
  {
   "cell_type": "code",
   "execution_count": 126,
   "id": "147158ee-fead-4e52-aeed-1ad88f1ac240",
   "metadata": {},
   "outputs": [
    {
     "name": "stdin",
     "output_type": "stream",
     "text": [
      "Enter the marks: 90\n"
     ]
    },
    {
     "name": "stdout",
     "output_type": "stream",
     "text": [
      "the gread of student :  A\n"
     ]
    }
   ],
   "source": [
    "Marks=int(input(\"Enter the marks:\"))\n",
    "if (Marks >=90):\n",
    "    gread=\"A\"\n",
    "elif (Marks >=90 and Marks >=70):\n",
    "    gread=\"b\"\n",
    "elif (Marks >=70 and Marks >=50):\n",
    "    gread=\"C\"\n",
    "elif (Marks >=50 and Marks >=30):\n",
    "    gread=\"D\"\n",
    "else:\n",
    "    gread=\"F \" \"Better luck next time\"\n",
    "print(\"the gread of student : \",gread)"
   ]
  },
  {
   "cell_type": "code",
   "execution_count": 148,
   "id": "6b628882-c4d1-413e-b221-bbd94a167c31",
   "metadata": {},
   "outputs": [
    {
     "name": "stdin",
     "output_type": "stream",
     "text": [
      "Enter the marks1 number: 85\n",
      "Enter the marks2 number: 75\n",
      "Enter the marks3 number: 33\n"
     ]
    },
    {
     "name": "stdout",
     "output_type": "stream",
     "text": [
      "The student is pass: 64.33333333333333\n"
     ]
    }
   ],
   "source": [
    "Marks1=int(input(\"Enter the marks1 number:\"))\n",
    "Marks2=int(input(\"Enter the marks2 number:\"))\n",
    "Marks3=int(input(\"Enter the marks3 number:\"))\n",
    "\n",
    "total_percentage= (100*(Marks1+Marks2+Marks3))/300\n",
    "if (total_percentage >=30 and Marks1>=33 and Marks2>=33 and Marks>=33):\n",
    "    print(\"The student is pass:\",total_percentage)\n",
    "else:\n",
    "    print(\"The student is fail better luck next time\",total_percentage)"
   ]
  },
  {
   "cell_type": "code",
   "execution_count": 30,
   "id": "91179b17-e5a8-43e0-aef6-ca8086c7cd3b",
   "metadata": {},
   "outputs": [
    {
     "name": "stdin",
     "output_type": "stream",
     "text": [
      "Enter the angle:  56\n"
     ]
    },
    {
     "name": "stdout",
     "output_type": "stream",
     "text": [
      "This is an acute angle.\n"
     ]
    }
   ],
   "source": [
    "num = int(input(\"Enter the angle: \"))\n",
    "\n",
    "if num == 90:\n",
    "    print(\"This is a right angle.\")\n",
    "elif num < 90:\n",
    "    print(\"This is an acute angle.\")\n",
    "elif num > 90 and num < 180:\n",
    "    print(\"This is an obtuse angle.\")\n",
    "else:\n",
    "    print(\"Not a valid angle.\")"
   ]
  },
  {
   "cell_type": "code",
   "execution_count": 50,
   "id": "b48dac0d-4836-48b7-ab50-e2b23e7afb14",
   "metadata": {},
   "outputs": [
    {
     "name": "stdin",
     "output_type": "stream",
     "text": [
      "Enter a number: 12\n"
     ]
    },
    {
     "name": "stdout",
     "output_type": "stream",
     "text": [
      "The numbers divisible by 15 are:\n",
      "12\n",
      "24\n",
      "36\n",
      "48\n",
      "60\n",
      "72\n",
      "84\n",
      "96\n"
     ]
    }
   ],
   "source": [
    "num=int(input(\"Enter a number:\"))\n",
    "print(\"The numbers divisible by 15 are:\")\n",
    "for i in range(1, 100):\n",
    "    if i % num == 0:\n",
    "        print(i)"
   ]
  },
  {
   "cell_type": "code",
   "execution_count": 62,
   "id": "47c745b0-77cc-4ba9-87b1-c2d3d1c75f91",
   "metadata": {},
   "outputs": [
    {
     "name": "stdout",
     "output_type": "stream",
     "text": [
      "* * * * * \n",
      "* * * * * \n",
      "* * * * * \n",
      "* * * * * \n",
      "* * * * * \n"
     ]
    }
   ],
   "source": [
    "for i in range(1,6):\n",
    "    for j in range(1,6):\n",
    "        print(\"*\",end=\" \")\n",
    "    print()"
   ]
  },
  {
   "cell_type": "code",
   "execution_count": 90,
   "id": "5aa76e9c-8437-4205-a43a-a2204b9e4a22",
   "metadata": {},
   "outputs": [
    {
     "name": "stdout",
     "output_type": "stream",
     "text": [
      "* \n",
      "* * \n",
      "* * * \n",
      "* * * * \n",
      "* * * * * \n"
     ]
    }
   ],
   "source": [
    "for i in range(1,1+5):\n",
    "    for j in range(1,i+1):\n",
    "        print(\"*\",end=\" \")\n",
    "    print()"
   ]
  },
  {
   "cell_type": "code",
   "execution_count": 104,
   "id": "405b4257-a55d-4771-8b83-11fc46e4adcd",
   "metadata": {},
   "outputs": [
    {
     "name": "stdout",
     "output_type": "stream",
     "text": [
      "* * * * * \n",
      "* * * * \n",
      "* * * \n",
      "* * \n",
      "* \n"
     ]
    }
   ],
   "source": [
    "for i in range(5,0,-1):\n",
    "    for j in range(1,i+1):\n",
    "        print(\"*\",end=\" \")\n",
    "    print()"
   ]
  }
 ],
 "metadata": {
  "kernelspec": {
   "display_name": "Python 3 (ipykernel)",
   "language": "python",
   "name": "python3"
  },
  "language_info": {
   "codemirror_mode": {
    "name": "ipython",
    "version": 3
   },
   "file_extension": ".py",
   "mimetype": "text/x-python",
   "name": "python",
   "nbconvert_exporter": "python",
   "pygments_lexer": "ipython3",
   "version": "3.12.4"
  }
 },
 "nbformat": 4,
 "nbformat_minor": 5
}
