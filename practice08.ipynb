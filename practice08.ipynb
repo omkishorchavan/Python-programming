{
 "cells": [
  {
   "cell_type": "code",
   "execution_count": 25,
   "id": "c5e414fd-5243-4aaa-aaf3-7de05badde25",
   "metadata": {},
   "outputs": [
    {
     "name": "stdout",
     "output_type": "stream",
     "text": [
      "{'Math': 80, 'English': 70, 'Science': 90, 'History': 60, 'Marathi': 35}\n"
     ]
    }
   ],
   "source": [
    "marks = {\n",
    "    \"Math\": 80,\n",
    "    \"English\": 70,\n",
    "    \"Science\": 90,\n",
    "    \"History\": 60,\n",
    "    \"Marathi\": 35\n",
    "}\n",
    "print(marks)\n"
   ]
  },
  {
   "cell_type": "code",
   "execution_count": 15,
   "id": "f9ba68d2-bcc7-40ca-9769-dd02b27630e2",
   "metadata": {},
   "outputs": [
    {
     "name": "stdout",
     "output_type": "stream",
     "text": [
      "Total marks: 375\n"
     ]
    }
   ],
   "source": [
    "total = sum(marks.values())\n",
    "print(\"Total marks:\", total)"
   ]
  },
  {
   "cell_type": "code",
   "execution_count": 17,
   "id": "a1390d8d-0db3-4fc7-b8d9-2dd692d111d1",
   "metadata": {},
   "outputs": [
    {
     "name": "stdout",
     "output_type": "stream",
     "text": [
      "Total marks: 75.0\n"
     ]
    }
   ],
   "source": [
    "avrage = sum(marks.values())/len(marks)\n",
    "print(\"Total marks:\", avrage)"
   ]
  },
  {
   "cell_type": "code",
   "execution_count": 7,
   "id": "8480c0bc-5f5c-4e7d-a120-61f061e6e917",
   "metadata": {},
   "outputs": [
    {
     "name": "stdout",
     "output_type": "stream",
     "text": [
      "Highest subject: Science Marks: 90\n"
     ]
    }
   ],
   "source": [
    "heighest=max(marks, key=marks.get)\n",
    "print(\"Highest subject:\", heighest, \"Marks:\", marks[heighest])"
   ]
  },
  {
   "cell_type": "code",
   "execution_count": 13,
   "id": "9ffb3005-ddd1-4780-b9bd-b06c5b90c894",
   "metadata": {},
   "outputs": [
    {
     "name": "stdout",
     "output_type": "stream",
     "text": [
      "lowest subject: Marathi Marks: 35\n"
     ]
    }
   ],
   "source": [
    "lowest=min(marks, key=marks.get)\n",
    "print(\"lowest subject:\", lowest, \"Marks:\", marks[lowest])"
   ]
  },
  {
   "cell_type": "code",
   "execution_count": 19,
   "id": "42ef1edd-0f31-4cbe-a1ab-fc2dc8c3caff",
   "metadata": {},
   "outputs": [
    {
     "name": "stdout",
     "output_type": "stream",
     "text": [
      "Subject with marks > 70: 2\n"
     ]
    }
   ],
   "source": [
    "count = 0\n",
    "for subject, mark in marks.items():\n",
    "    if mark > 70:\n",
    "        count +=1\n",
    "print(\"Subject with marks > 70:\", count)"
   ]
  },
  {
   "cell_type": "code",
   "execution_count": 29,
   "id": "20797788-140b-4109-a3ba-60fbf615530b",
   "metadata": {},
   "outputs": [
    {
     "name": "stdout",
     "output_type": "stream",
     "text": [
      "Math : 80\n",
      "English : 70\n",
      "Science : 90\n",
      "History : 60\n"
     ]
    }
   ],
   "source": [
    "for subject, mark in marks.items():\n",
    "    if mark % 2 == 0:\n",
    "        print(subject, \":\", mark)"
   ]
  },
  {
   "cell_type": "code",
   "execution_count": 45,
   "id": "0dc779f3-b483-40cf-914d-c89f34596709",
   "metadata": {},
   "outputs": [
    {
     "name": "stdout",
     "output_type": "stream",
     "text": [
      "Math is present\n"
     ]
    }
   ],
   "source": [
    "if \"Math\" in marks:\n",
    "    print(\"Math is present\")\n",
    "else:\n",
    "    print(\"Math is not found\")"
   ]
  }
 ],
 "metadata": {
  "kernelspec": {
   "display_name": "Python 3 (ipykernel)",
   "language": "python",
   "name": "python3"
  },
  "language_info": {
   "codemirror_mode": {
    "name": "ipython",
    "version": 3
   },
   "file_extension": ".py",
   "mimetype": "text/x-python",
   "name": "python",
   "nbconvert_exporter": "python",
   "pygments_lexer": "ipython3",
   "version": "3.12.4"
  }
 },
 "nbformat": 4,
 "nbformat_minor": 5
}
