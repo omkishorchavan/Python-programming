{
 "cells": [
  {
   "cell_type": "code",
   "execution_count": 22,
   "id": "e1d468d2-3e36-4974-ae60-de79c9b28e29",
   "metadata": {},
   "outputs": [
    {
     "name": "stdout",
     "output_type": "stream",
     "text": [
      "Square of 1 to 20 numbers:\n",
      "1 4 9 16 25 36 49 64 81 100 121 144 169 196 225 256 289 324 361 400 "
     ]
    }
   ],
   "source": [
    "print(\"Square of 1 to 20 numbers:\") \n",
    "for i in range(1,21):\n",
    "    print(i**2,end=\" \")"
   ]
  },
  {
   "cell_type": "code",
   "execution_count": 24,
   "id": "70a07e35-771c-4fd5-89b5-85a9db11d7a5",
   "metadata": {},
   "outputs": [
    {
     "name": "stdout",
     "output_type": "stream",
     "text": [
      "Cube of 1 to 20 numbers:\n",
      "1 8 27 64 125 216 343 512 729 1000 1331 1728 2197 2744 3375 4096 4913 5832 6859 8000 "
     ]
    }
   ],
   "source": [
    "print(\"Cube of 1 to 20 numbers:\") \n",
    "for i in range(1,21):\n",
    "    print(i**3,end=\" \")"
   ]
  },
  {
   "cell_type": "code",
   "execution_count": 62,
   "id": "515db139-f32f-4d20-9e27-436c2ee6f003",
   "metadata": {},
   "outputs": [
    {
     "name": "stdout",
     "output_type": "stream",
     "text": [
      "55\n"
     ]
    }
   ],
   "source": [
    "sum=0\n",
    "for i in range(1,11):\n",
    "    sum=sum+i\n",
    "print(sum)"
   ]
  },
  {
   "cell_type": "code",
   "execution_count": 78,
   "id": "6cc9b7d8-a99c-454c-90fc-daaa804d9a75",
   "metadata": {},
   "outputs": [
    {
     "name": "stdout",
     "output_type": "stream",
     "text": [
      "s s C   l m t H   a v a j   + + c   n o h t y P "
     ]
    }
   ],
   "source": [
    "word=\"Python c++ java Html Css\"\n",
    "for i in range(len(word)-1,-1,-1):\n",
    "    print(word[i],end=\" \")"
   ]
  },
  {
   "cell_type": "code",
   "execution_count": 94,
   "id": "3cededdd-0749-449a-9bd2-564ba698262d",
   "metadata": {},
   "outputs": [
    {
     "name": "stdout",
     "output_type": "stream",
     "text": [
      "The vowels in the word: 4\n"
     ]
    }
   ],
   "source": [
    "vowels = \"aeiou\"\n",
    "word = \"om sia ram\"\n",
    "count = 0\n",
    "\n",
    "for char in word:\n",
    "    if char in vowels:\n",
    "        count += 1\n",
    "\n",
    "print(\"The vowels in the word:\", count)\n"
   ]
  },
  {
   "cell_type": "code",
   "execution_count": 13,
   "id": "6d8acc44-5b0b-4a78-88a5-6eb92fc33661",
   "metadata": {},
   "outputs": [
    {
     "name": "stdin",
     "output_type": "stream",
     "text": [
      "Enter the febonacci squance 10\n"
     ]
    },
    {
     "name": "stdout",
     "output_type": "stream",
     "text": [
      "1 2 3 5 8 13 21 34 55 89 "
     ]
    }
   ],
   "source": [
    "a=0\n",
    "b=1\n",
    "num=int(input(\"Enter the febonacci squance\"))\n",
    "if num == 1:\n",
    "    print(a)\n",
    "else:\n",
    "    for i in range(1,num+1):\n",
    "        c=a+b\n",
    "        a=b\n",
    "        b=c\n",
    "        print(c,end=\" \")"
   ]
  },
  {
   "cell_type": "code",
   "execution_count": 49,
   "id": "2bd4d575-4e10-449d-a20b-09a1158e0088",
   "metadata": {},
   "outputs": [
    {
     "name": "stdin",
     "output_type": "stream",
     "text": [
      "Enter the factorical of number: 6\n"
     ]
    },
    {
     "name": "stdout",
     "output_type": "stream",
     "text": [
      "1 2 6 24 120 720 "
     ]
    }
   ],
   "source": [
    "num=int(input(\"Enter the factorical of number:\"))\n",
    "factorical=1\n",
    "for i in range(1,num+1):\n",
    "    factorical*=i\n",
    "    print(factorical,end=\" \")"
   ]
  },
  {
   "cell_type": "code",
   "execution_count": 59,
   "id": "2654a2d6-f536-40a6-b002-77d01b1985cf",
   "metadata": {},
   "outputs": [
    {
     "name": "stdin",
     "output_type": "stream",
     "text": [
      "Enter the number: 8\n"
     ]
    },
    {
     "name": "stdout",
     "output_type": "stream",
     "text": [
      "not prime number\n"
     ]
    }
   ],
   "source": [
    "num=int(input(\"Enter the number:\"))\n",
    "for i in range(2,num):\n",
    "    if num%i==0:\n",
    "        print(\"not prime number\")\n",
    "        break\n",
    "else:\n",
    "    print(\" prime number\")"
   ]
  },
  {
   "cell_type": "code",
   "execution_count": 65,
   "id": "cbcade01-166c-4da9-9014-c2434e225310",
   "metadata": {},
   "outputs": [
    {
     "name": "stdin",
     "output_type": "stream",
     "text": [
      "Enter a word programming\n"
     ]
    },
    {
     "name": "stdout",
     "output_type": "stream",
     "text": [
      "p: 1\n",
      "r: 2\n",
      "o: 1\n",
      "g: 2\n",
      "a: 1\n",
      "m: 2\n",
      "i: 1\n",
      "n: 1\n"
     ]
    }
   ],
   "source": [
    "word=input(\"Enter a word\")\n",
    "char_count = {}\n",
    "\n",
    "for char in word:\n",
    "    if char in char_count:\n",
    "        char_count[char]+=1\n",
    "    else:\n",
    "        char_count[char]=1\n",
    "\n",
    "for char, count in char_count.items():\n",
    "    print(char + ':', count)\n"
   ]
  },
  {
   "cell_type": "code",
   "execution_count": null,
   "id": "2bd84f86-93fd-4f52-b88f-644580fcd2b9",
   "metadata": {},
   "outputs": [],
   "source": []
  }
 ],
 "metadata": {
  "kernelspec": {
   "display_name": "Python 3 (ipykernel)",
   "language": "python",
   "name": "python3"
  },
  "language_info": {
   "codemirror_mode": {
    "name": "ipython",
    "version": 3
   },
   "file_extension": ".py",
   "mimetype": "text/x-python",
   "name": "python",
   "nbconvert_exporter": "python",
   "pygments_lexer": "ipython3",
   "version": "3.12.4"
  }
 },
 "nbformat": 4,
 "nbformat_minor": 5
}
