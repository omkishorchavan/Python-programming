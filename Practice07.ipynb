{
 "cells": [
  {
   "cell_type": "code",
   "execution_count": 7,
   "id": "b86272b1-756e-4c06-ab93-f79fe77a5014",
   "metadata": {},
   "outputs": [
    {
     "name": "stdout",
     "output_type": "stream",
     "text": [
      "First: 10\n",
      "Last: 40\n"
     ]
    }
   ],
   "source": [
    "numbers = (10, 20, 30, 40)\n",
    "\n",
    "print(\"First:\", numbers[0])\n",
    "print(\"Last:\", numbers[-1])"
   ]
  },
  {
   "cell_type": "code",
   "execution_count": 13,
   "id": "ddafa0e8-e7ac-4ef2-aa0a-7e695ba7e2b2",
   "metadata": {},
   "outputs": [
    {
     "name": "stdout",
     "output_type": "stream",
     "text": [
      "2 appears 3 times\n"
     ]
    }
   ],
   "source": [
    "t = (1, 2, 3, 2, 2, 4)\n",
    "count = t.count(2)\n",
    "print(\"2 appears\", count, \"times\")"
   ]
  },
  {
   "cell_type": "code",
   "execution_count": 43,
   "id": "5cf058b0-62b8-4129-a0c6-b6074e8a55c6",
   "metadata": {},
   "outputs": [
    {
     "name": "stdout",
     "output_type": "stream",
     "text": [
      "Index of 9 is 2\n"
     ]
    }
   ],
   "source": [
    "t = (5, 8, 9, 3)\n",
    "index = t.index(9)\n",
    "print(\"Index of 9 is\", index)"
   ]
  },
  {
   "cell_type": "code",
   "execution_count": 65,
   "id": "01efe474-1413-4a56-b24c-7f98a6129e3d",
   "metadata": {},
   "outputs": [
    {
     "name": "stdin",
     "output_type": "stream",
     "text": [
      "Enter the number 11\n"
     ]
    },
    {
     "name": "stdout",
     "output_type": "stream",
     "text": [
      "The number is not present in tuple\n"
     ]
    }
   ],
   "source": [
    "t = (1, 2, 3,4,5,6,7,8,9,10)\n",
    "num=int(input(\"Enter the number\"))\n",
    "if num in t:\n",
    "    print(\"The number is present in tuple\")\n",
    "else:\n",
    "    print(\"The number is not present in tuple\")"
   ]
  },
  {
   "cell_type": "code",
   "execution_count": 79,
   "id": "4839daac-e7ec-41de-b41a-84a7c66484c4",
   "metadata": {},
   "outputs": [
    {
     "name": "stdout",
     "output_type": "stream",
     "text": [
      "The square of 1 is 1\n",
      "The square of 2 is 4\n",
      "The square of 3 is 9\n",
      "The square of 4 is 16\n",
      "The square of 5 is 25\n",
      "The square of 6 is 36\n",
      "The square of 7 is 49\n",
      "The square of 8 is 64\n",
      "The square of 9 is 81\n",
      "The square of 10 is 100\n"
     ]
    }
   ],
   "source": [
    "t = (1, 2, 3, 4, 5, 6, 7, 8, 9, 10)\n",
    "\n",
    "for i in t:\n",
    "    print(\"The square of\", i, \"is\", i**2)"
   ]
  },
  {
   "cell_type": "code",
   "execution_count": 93,
   "id": "6275a19f-f4ca-41a4-a6e3-6f97b0c90f91",
   "metadata": {},
   "outputs": [
    {
     "name": "stdout",
     "output_type": "stream",
     "text": [
      "lsit= [1, 2, 3, 4, 5, 6, 7, 8, 9, 10]\n"
     ]
    }
   ],
   "source": [
    "t = (1, 2, 3, 4, 5, 6, 7, 8, 9, 10)\n",
    "l=list(t)\n",
    "print(\"lsit=\",l)"
   ]
  },
  {
   "cell_type": "code",
   "execution_count": 99,
   "id": "ab9b691d-43fb-4f70-b22e-1c08358af4d5",
   "metadata": {},
   "outputs": [
    {
     "name": "stdout",
     "output_type": "stream",
     "text": [
      "Combined tuple: (1, 2, 3, 4)\n"
     ]
    }
   ],
   "source": [
    "a = (1, 2)\n",
    "b = (3, 4)\n",
    "c = a + b\n",
    "print(\"Combined tuple:\", c)"
   ]
  },
  {
   "cell_type": "code",
   "execution_count": 1,
   "id": "0eff891a-cd2c-48a3-a8d7-bfe77243072b",
   "metadata": {},
   "outputs": [
    {
     "name": "stdout",
     "output_type": "stream",
     "text": [
      "Average 5.5\n"
     ]
    }
   ],
   "source": [
    "t = (1, 2, 3, 4, 5, 6, 7, 8, 9, 10)\n",
    "sum=sum(t)\n",
    "length=len(t)\n",
    "Average=sum/length\n",
    "print(\"Average\",Average)"
   ]
  },
  {
   "cell_type": "code",
   "execution_count": null,
   "id": "b7f3a49d-e8a2-408d-a4e3-c46893ebad9b",
   "metadata": {},
   "outputs": [],
   "source": []
  }
 ],
 "metadata": {
  "kernelspec": {
   "display_name": "Python 3 (ipykernel)",
   "language": "python",
   "name": "python3"
  },
  "language_info": {
   "codemirror_mode": {
    "name": "ipython",
    "version": 3
   },
   "file_extension": ".py",
   "mimetype": "text/x-python",
   "name": "python",
   "nbconvert_exporter": "python",
   "pygments_lexer": "ipython3",
   "version": "3.12.4"
  }
 },
 "nbformat": 4,
 "nbformat_minor": 5
}
