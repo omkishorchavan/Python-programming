{
 "cells": [
  {
   "cell_type": "code",
   "execution_count": 1,
   "id": "ccd189de-12b2-485d-8dc9-41db2f165495",
   "metadata": {},
   "outputs": [
    {
     "name": "stdin",
     "output_type": "stream",
     "text": [
      "Enter the length of the rectangle 12\n",
      "Enter the width e of the rectangle 15\n"
     ]
    },
    {
     "name": "stdout",
     "output_type": "stream",
     "text": [
      "Area of the rectangle is: 180.0\n"
     ]
    }
   ],
   "source": [
    "length=float(input(\"Enter the length of the rectangle\"))\n",
    "width=float(input(\"Enter the width e of the rectangle\"))\n",
    "area_of_rectangle = length*width\n",
    "print(\"Area of the rectangle is:\", area_of_rectangle)"
   ]
  },
  {
   "cell_type": "code",
   "execution_count": 5,
   "id": "95313d1c-dfa5-47d3-a91f-24a87548b2a9",
   "metadata": {},
   "outputs": [
    {
     "name": "stdin",
     "output_type": "stream",
     "text": [
      "Enter the number 5\n"
     ]
    },
    {
     "name": "stdout",
     "output_type": "stream",
     "text": [
      "prime number\n"
     ]
    }
   ],
   "source": [
    "num=int(input(\"Enter the number\"))\n",
    "for i in range(2,num):\n",
    "    if num%i==0:\n",
    "        print(\"Not a prime number\")\n",
    "        break\n",
    "else:\n",
    "    print(\"prime number\")"
   ]
  },
  {
   "cell_type": "code",
   "execution_count": 1,
   "id": "8d8bb067-386e-46d2-b288-51dd3326269c",
   "metadata": {},
   "outputs": [
    {
     "name": "stdin",
     "output_type": "stream",
     "text": [
      "Enter the number 2\n"
     ]
    },
    {
     "name": "stdout",
     "output_type": "stream",
     "text": [
      "even number\n"
     ]
    }
   ],
   "source": [
    "num=int(input(\"Enter the number\"))\n",
    "if num%2 == 0:\n",
    "    print(\"even number\")\n",
    "else:\n",
    "    print(\"odd number\")"
   ]
  },
  {
   "cell_type": "code",
   "execution_count": 3,
   "id": "c3174045-1628-408f-b629-270ef24a6cf1",
   "metadata": {},
   "outputs": [
    {
     "name": "stdin",
     "output_type": "stream",
     "text": [
      "Enter the number: 12\n"
     ]
    },
    {
     "name": "stdout",
     "output_type": "stream",
     "text": [
      "12\n",
      "24\n",
      "36\n",
      "48\n",
      "60\n",
      "72\n",
      "84\n",
      "96\n",
      "108\n",
      "120\n"
     ]
    }
   ],
   "source": [
    "num=int(input(\"Enter the number:\"))\n",
    "for i in range(1,11):\n",
    "    print(num*i)"
   ]
  },
  {
   "cell_type": "code",
   "execution_count": 13,
   "id": "8e64fe4f-4676-44ff-a1c6-fd0e95e8548b",
   "metadata": {},
   "outputs": [
    {
     "name": "stdin",
     "output_type": "stream",
     "text": [
      "Enter the number: 5\n"
     ]
    },
    {
     "name": "stdout",
     "output_type": "stream",
     "text": [
      "1\n",
      "1\n",
      "2\n",
      "3\n",
      "5\n",
      "8\n"
     ]
    }
   ],
   "source": [
    "num=int(input(\"Enter the number:\"))\n",
    "a=0\n",
    "b=1\n",
    "if num == 1:\n",
    "    print(a)\n",
    "else:\n",
    "    print(b)\n",
    "for i in range(1,num+1):\n",
    "    c=a+b\n",
    "    a=b\n",
    "    b=c\n",
    "    print(c)   "
   ]
  },
  {
   "cell_type": "code",
   "execution_count": 3,
   "id": "d6ad3b90-53ab-461d-8927-5cb2f1c65045",
   "metadata": {},
   "outputs": [
    {
     "name": "stdin",
     "output_type": "stream",
     "text": [
      "Enter the number 152\n"
     ]
    },
    {
     "name": "stdout",
     "output_type": "stream",
     "text": [
      "It is not a Amstrong number\n"
     ]
    }
   ],
   "source": [
    "num=int(input(\"Enter the number\"))\n",
    "temp=num\n",
    "sum=0\n",
    "while temp>0:\n",
    "    digit=temp%10\n",
    "    cube=digit**3\n",
    "    sum= sum+cube\n",
    "    temp=temp//10\n",
    "if sum==num:\n",
    "    print(\"It is a Amstrong number\")\n",
    "else:\n",
    "    print(\"It is not a Amstrong number\")"
   ]
  },
  {
   "cell_type": "code",
   "execution_count": 9,
   "id": "95ef30e2-c966-4392-8367-a693d66f269a",
   "metadata": {},
   "outputs": [
    {
     "name": "stdin",
     "output_type": "stream",
     "text": [
      "Enter the number 125\n"
     ]
    },
    {
     "name": "stdout",
     "output_type": "stream",
     "text": [
      "It is not a palindrom number\n"
     ]
    }
   ],
   "source": [
    "num=int(input(\"Enter the number\"))\n",
    "temp=num\n",
    "reverse=0\n",
    "while temp>0:\n",
    "    digit=temp%10\n",
    "    reverse=reverse*10+digit\n",
    "    temp=temp//10\n",
    "if num==reverse:\n",
    "    print(\"It is a palindrom number\")\n",
    "else:\n",
    "    print(\"It is not a palindrom number\")\n",
    "    "
   ]
  },
  {
   "cell_type": "code",
   "execution_count": 22,
   "id": "9c06dc5c-69f7-4ce9-9ea2-bb1cbdec07b6",
   "metadata": {},
   "outputs": [
    {
     "name": "stdin",
     "output_type": "stream",
     "text": [
      "Enter the number: 3\n"
     ]
    },
    {
     "name": "stdout",
     "output_type": "stream",
     "text": [
      "The factorial of given number is: 6\n"
     ]
    }
   ],
   "source": [
    "num=int(input(\"Enter the number:\"))\n",
    "fact=1\n",
    "if num<0:\n",
    "    print(\"The factorial 0 is does not exist\")\n",
    "if num==0:\n",
    "    print(\"The factorial is:\",1)\n",
    "if num>0:\n",
    "    for i in range(1,num+1):\n",
    "        fact=fact*i\n",
    "print(\"The factorial of given number is:\",fact)"
   ]
  },
  {
   "cell_type": "code",
   "execution_count": 38,
   "id": "b86bc63e-7938-4de5-be2a-8fd284fdb42d",
   "metadata": {},
   "outputs": [
    {
     "name": "stdin",
     "output_type": "stream",
     "text": [
      "Enter the number: 15\n"
     ]
    },
    {
     "name": "stdout",
     "output_type": "stream",
     "text": [
      "Numbers from 1 to 100 that are divisible by 15:\n",
      "15\n",
      "30\n",
      "45\n",
      "60\n",
      "75\n",
      "90\n",
      "This number are divisible by15\n"
     ]
    }
   ],
   "source": [
    "num=int(input(\"Enter the number:\"))\n",
    "print(f\"Numbers from 1 to 100 that are divisible by {num}:\")\n",
    "for i in range(1,100):\n",
    "    if i%num==0:\n",
    "        print(i)\n",
    "print(f\"This number are divisible by{num}\")"
   ]
  },
  {
   "cell_type": "code",
   "execution_count": 52,
   "id": "87f2baa7-f8e0-4677-9d99-a16593255c5f",
   "metadata": {},
   "outputs": [
    {
     "name": "stdin",
     "output_type": "stream",
     "text": [
      "Enter the number: 5\n"
     ]
    },
    {
     "name": "stdout",
     "output_type": "stream",
     "text": [
      "Addition of natural number from 1 to 5:15\n"
     ]
    }
   ],
   "source": [
    "num=int(input(\"Enter the number:\"))\n",
    "if num < 0:\n",
    "    print(\"please Enter the positive number:\")\n",
    "else:\n",
    "    sum = 0 \n",
    "    original_num = num\n",
    "    while num > 0:\n",
    "        sum = sum + num\n",
    "        num= num- 1\n",
    "    print(f\"Addition of natural number from 1 to {original_num}:{sum}\") "
   ]
  }
 ],
 "metadata": {
  "kernelspec": {
   "display_name": "Python 3 (ipykernel)",
   "language": "python",
   "name": "python3"
  },
  "language_info": {
   "codemirror_mode": {
    "name": "ipython",
    "version": 3
   },
   "file_extension": ".py",
   "mimetype": "text/x-python",
   "name": "python",
   "nbconvert_exporter": "python",
   "pygments_lexer": "ipython3",
   "version": "3.12.4"
  }
 },
 "nbformat": 4,
 "nbformat_minor": 5
}
