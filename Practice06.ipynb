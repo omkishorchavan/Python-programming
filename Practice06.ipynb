{
 "cells": [
  {
   "cell_type": "code",
   "execution_count": 21,
   "id": "1922878f-c0cf-40cd-a251-1aef273bf7ec",
   "metadata": {},
   "outputs": [
    {
     "name": "stdout",
     "output_type": "stream",
     "text": [
      "Total even numbers: 3\n"
     ]
    }
   ],
   "source": [
    "numbers = [1, 2, 4, 5, 6]\n",
    "count = 0\n",
    "\n",
    "for num in numbers:\n",
    "    if num % 2 == 0:\n",
    "        count += 1\n",
    "\n",
    "print(\"Total even numbers:\", count)"
   ]
  },
  {
   "cell_type": "code",
   "execution_count": 27,
   "id": "c085d204-59aa-4fed-be07-e598364e1f67",
   "metadata": {},
   "outputs": [
    {
     "name": "stdout",
     "output_type": "stream",
     "text": [
      "Sum is 10\n"
     ]
    }
   ],
   "source": [
    "numbers = [3, 5, 2]\n",
    "total = 0\n",
    "\n",
    "for num in numbers:\n",
    "    total += num\n",
    "\n",
    "print(\"Sum is\", total)"
   ]
  },
  {
   "cell_type": "code",
   "execution_count": 41,
   "id": "85f4b6e8-af49-4bf9-8044-da2faa807c75",
   "metadata": {},
   "outputs": [
    {
     "name": "stdout",
     "output_type": "stream",
     "text": [
      "Largest number: 9\n"
     ]
    }
   ],
   "source": [
    "numbers = [4, 7, 1, 9]\n",
    "largest = numbers[0]\n",
    "for num in numbers:\n",
    "    if num > largest:\n",
    "        largest = num\n",
    "print(\"Largest number:\", largest)"
   ]
  },
  {
   "cell_type": "code",
   "execution_count": 43,
   "id": "f4d1c13c-7296-4e79-ada0-661162aa903a",
   "metadata": {},
   "outputs": [
    {
     "name": "stdout",
     "output_type": "stream",
     "text": [
      "List without duplicates: [1, 2, 3]\n"
     ]
    }
   ],
   "source": [
    "numbers = [1, 2, 2, 3, 1]\n",
    "unique = []\n",
    "for num in numbers:\n",
    "    if num not in unique:\n",
    "        unique.append(num)\n",
    "print(\"List without duplicates:\", unique)"
   ]
  },
  {
   "cell_type": "code",
   "execution_count": null,
   "id": "3ffadefd-d4c3-40ee-a8c9-59c71f4cd00d",
   "metadata": {},
   "outputs": [],
   "source": []
  }
 ],
 "metadata": {
  "kernelspec": {
   "display_name": "Python 3 (ipykernel)",
   "language": "python",
   "name": "python3"
  },
  "language_info": {
   "codemirror_mode": {
    "name": "ipython",
    "version": 3
   },
   "file_extension": ".py",
   "mimetype": "text/x-python",
   "name": "python",
   "nbconvert_exporter": "python",
   "pygments_lexer": "ipython3",
   "version": "3.12.4"
  }
 },
 "nbformat": 4,
 "nbformat_minor": 5
}
