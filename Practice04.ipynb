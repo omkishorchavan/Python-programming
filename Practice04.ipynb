{
 "cells": [
  {
   "cell_type": "code",
   "execution_count": 9,
   "id": "7361c650-0a6f-4d62-96a7-c78c8dc9b820",
   "metadata": {},
   "outputs": [
    {
     "name": "stdout",
     "output_type": "stream",
     "text": [
      "cube of 1 to 10 number\n",
      "1 8 27 64 125 216 343 512 729 1000 "
     ]
    }
   ],
   "source": [
    "print(\"cube of 1 to 10 number\")\n",
    "a=1\n",
    "while a<=10:\n",
    "    print(a**3,end=\" \")\n",
    "    a+=1"
   ]
  },
  {
   "cell_type": "code",
   "execution_count": 3,
   "id": "c92d9462-1a6a-4341-97ed-c38497cf2f50",
   "metadata": {},
   "outputs": [
    {
     "name": "stdout",
     "output_type": "stream",
     "text": [
      "1\n",
      "3\n",
      "5\n",
      "7\n",
      "9\n",
      "11\n",
      "13\n",
      "15\n"
     ]
    }
   ],
   "source": [
    "num=1\n",
    "while num<=15:\n",
    "    if num %2 ==1:\n",
    "        print(num)\n",
    "    num+=1"
   ]
  },
  {
   "cell_type": "code",
   "execution_count": 15,
   "id": "73b9f64a-5ecc-4f4a-b548-4ef5b51c25e0",
   "metadata": {},
   "outputs": [
    {
     "name": "stdout",
     "output_type": "stream",
     "text": [
      "product of 1 to 5 number: 120\n"
     ]
    }
   ],
   "source": [
    "product=1\n",
    "num=1\n",
    "while num<=5:\n",
    "    product*=num\n",
    "    num+=1\n",
    "print(\"product of 1 to 5 number:\",product)"
   ]
  },
  {
   "cell_type": "code",
   "execution_count": 7,
   "id": "11aa7b4b-5df2-46e2-ad48-3964119fea82",
   "metadata": {},
   "outputs": [
    {
     "name": "stdin",
     "output_type": "stream",
     "text": [
      "Enter a sentence = He buddy\n"
     ]
    },
    {
     "name": "stdout",
     "output_type": "stream",
     "text": [
      "eH yddub "
     ]
    }
   ],
   "source": [
    "sentence=input(\"Enter a sentence =\")\n",
    "words=sentence.split()\n",
    "for word in words:\n",
    "    i=len(word)-1\n",
    "    while i>=0:\n",
    "        print(word[i],end=\"\")\n",
    "        i-=1\n",
    "    print(end=\" \")"
   ]
  },
  {
   "cell_type": "code",
   "execution_count": 18,
   "id": "3671cda9-7553-45ad-8bdd-5bd5f837cbbf",
   "metadata": {},
   "outputs": [
    {
     "name": "stdin",
     "output_type": "stream",
     "text": [
      "Enter the length:  15\n",
      "Enter the width:  14\n"
     ]
    },
    {
     "name": "stdout",
     "output_type": "stream",
     "text": [
      "Perimeter of rectangle is: 58\n"
     ]
    }
   ],
   "source": [
    "length = int(input(\"Enter the length: \"))\n",
    "width = int(input(\"Enter the width: \"))\n",
    "\n",
    "perimeter = 2 * (length + width)\n",
    "\n",
    "print(\"Perimeter of rectangle is:\", perimeter)\n",
    "\n"
   ]
  },
  {
   "cell_type": "code",
   "execution_count": 20,
   "id": "5c9574b6-2abf-4e8b-80d7-88497aaa4eb8",
   "metadata": {},
   "outputs": [
    {
     "name": "stdin",
     "output_type": "stream",
     "text": [
      "Enter the side of square:  4\n"
     ]
    },
    {
     "name": "stdout",
     "output_type": "stream",
     "text": [
      "Perimeter of square is: 16\n"
     ]
    }
   ],
   "source": [
    "side = int(input(\"Enter the side of square: \"))\n",
    "\n",
    "perimeter = 4 * side\n",
    "\n",
    "print(\"Perimeter of square is:\", perimeter)\n"
   ]
  },
  {
   "cell_type": "code",
   "execution_count": 22,
   "id": "22bf3295-3fb4-4ca4-87dd-fd6292a6436d",
   "metadata": {},
   "outputs": [
    {
     "name": "stdin",
     "output_type": "stream",
     "text": [
      "Enter principal amount:  45\n",
      "Enter rate of interest:  15\n",
      "Enter time in years:  14\n"
     ]
    },
    {
     "name": "stdout",
     "output_type": "stream",
     "text": [
      "Simple Interest is: 94.5\n"
     ]
    }
   ],
   "source": [
    "P = float(input(\"Enter principal amount: \"))\n",
    "R = float(input(\"Enter rate of interest: \"))\n",
    "T = float(input(\"Enter time in years: \"))\n",
    "\n",
    "SI = (P * R * T) / 100\n",
    "\n",
    "print(\"Simple Interest is:\", SI)\n"
   ]
  },
  {
   "cell_type": "code",
   "execution_count": 24,
   "id": "638dc0b2-85f8-464a-b258-df81b2ab8e1b",
   "metadata": {},
   "outputs": [
    {
     "name": "stdin",
     "output_type": "stream",
     "text": [
      "Enter principal amount:  45\n",
      "Enter rate of interest:  45\n",
      "Enter time in years:  42\n"
     ]
    },
    {
     "name": "stdout",
     "output_type": "stream",
     "text": [
      "Compound Interest is: 269568123.3018494\n"
     ]
    }
   ],
   "source": [
    "P = float(input(\"Enter principal amount: \"))\n",
    "R = float(input(\"Enter rate of interest: \"))\n",
    "T = float(input(\"Enter time in years: \"))\n",
    "\n",
    "CI = P * ((1 + R/100) ** T) - P\n",
    "\n",
    "print(\"Compound Interest is:\", CI)\n"
   ]
  },
  {
   "cell_type": "code",
   "execution_count": 11,
   "id": "2401562e-d59e-41f1-9d6f-e37f415282b9",
   "metadata": {},
   "outputs": [
    {
     "name": "stdout",
     "output_type": "stream",
     "text": [
      "1 \n",
      "1 2 \n",
      "1 2 3 \n",
      "1 2 3 4 \n",
      "1 2 3 4 5 \n"
     ]
    }
   ],
   "source": [
    "num=6\n",
    "for i in range(1,6):\n",
    "    for j in range(1,i+1):\n",
    "        print(j,end=\" \")\n",
    "    print()"
   ]
  },
  {
   "cell_type": "code",
   "execution_count": 15,
   "id": "40aac728-ae0f-4de6-9a52-c69323b1df08",
   "metadata": {},
   "outputs": [
    {
     "name": "stdout",
     "output_type": "stream",
     "text": [
      "5 4 3 2 1 \n",
      "4 3 2 1 \n",
      "3 2 1 \n",
      "2 1 \n",
      "1 \n"
     ]
    }
   ],
   "source": [
    "num=5\n",
    "for i in range(num,0,-1):\n",
    "    for j in range(i,0,-1):\n",
    "        print(j,end=\" \")\n",
    "    print()"
   ]
  },
  {
   "cell_type": "code",
   "execution_count": null,
   "id": "8290fe29-d758-44ba-924b-64845c76d572",
   "metadata": {},
   "outputs": [],
   "source": []
  }
 ],
 "metadata": {
  "kernelspec": {
   "display_name": "Python 3 (ipykernel)",
   "language": "python",
   "name": "python3"
  },
  "language_info": {
   "codemirror_mode": {
    "name": "ipython",
    "version": 3
   },
   "file_extension": ".py",
   "mimetype": "text/x-python",
   "name": "python",
   "nbconvert_exporter": "python",
   "pygments_lexer": "ipython3",
   "version": "3.12.4"
  }
 },
 "nbformat": 4,
 "nbformat_minor": 5
}
